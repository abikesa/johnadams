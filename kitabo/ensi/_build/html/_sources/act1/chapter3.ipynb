{
 "cells": [
  {
   "cell_type": "markdown",
   "metadata": {},
   "source": [
    "(github)=\n",
    "# Github  \n",
    " \n",
    "Automatic dataset creation for NHANES Surveys: 1988-2000\n",
    "- [nhanes_fena](https://projectfena.com/wp-content/uploads/2023/11/nhanes_fena.ado)\n",
    "- [yearly_cpi](https://projectfena.com/wp-content/uploads/2023/11/yearly_cpi.dta)\n",
    "- [table1_fena](https://projectfena.com/wp-content/uploads/2023/11/table1_fena.ado)\n",
    "- [survplot_fena](https://projectfena.com/wp-content/uploads/2023/11/survplot_fena.ado)\n",
    "\n",
    "\n",
    "\n"
   ]
  }
 ],
 "metadata": {
  "kernelspec": {
   "display_name": "myenv",
   "language": "python",
   "name": "python3"
  },
  "language_info": {
   "codemirror_mode": {
    "name": "ipython",
    "version": 3
   },
   "file_extension": ".py",
   "mimetype": "text/x-python",
   "name": "python",
   "nbconvert_exporter": "python",
   "pygments_lexer": "ipython3",
   "version": "3.12.4"
  },
  "widgets": {
   "application/vnd.jupyter.widget-state+json": {
    "state": {},
    "version_major": 2,
    "version_minor": 0
   }
  }
 },
 "nbformat": 4,
 "nbformat_minor": 4
}
