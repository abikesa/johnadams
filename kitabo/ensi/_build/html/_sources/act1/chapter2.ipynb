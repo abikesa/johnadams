{
 "cells": [
  {
   "cell_type": "markdown",
   "metadata": {},
   "source": [
    "(backend)=\n",
    "# Backend\n",
    "\n",
    "- Do not re-invent the wheel\n",
    "   - Establishing harbors of .do files and .ado files to allow collaborators access and benefit from existing works\n",
    "   - Github \n",
    "- Easy adaptation and operation\n",
    "   - An interactive way of building Stata packages to make Stata programs self-explanatory\n",
    "   - Prompt-based Programming Approach\n",
    "- Accessible national datasets\n",
    "   - Quickly organize control datasets from public national databases to gather necessary information based on unique needs of studies\n",
    "   - NHANES_FENA program\n"
   ]
  }
 ],
 "metadata": {
  "kernelspec": {
   "display_name": "myenv",
   "language": "python",
   "name": "python3"
  },
  "language_info": {
   "codemirror_mode": {
    "name": "ipython",
    "version": 3
   },
   "file_extension": ".py",
   "mimetype": "text/x-python",
   "name": "python",
   "nbconvert_exporter": "python",
   "pygments_lexer": "ipython3",
   "version": "3.12.4"
  },
  "widgets": {
   "application/vnd.jupyter.widget-state+json": {
    "state": {},
    "version_major": 2,
    "version_minor": 0
   }
  }
 },
 "nbformat": 4,
 "nbformat_minor": 4
}
