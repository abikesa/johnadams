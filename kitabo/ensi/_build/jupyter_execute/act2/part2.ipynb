{
 "cells": [
  {
   "cell_type": "markdown",
   "metadata": {},
   "source": [
    "(choisis)=\n",
    "# Decision \n",
    "\n",
    "<iframe src=\"../nis/App/index.html\" width=\"100%\" height=\"1000px\"></iframe>\n",
    "\n",
    "```{figure} https://abikesa.github.io/guesswho/_images/commodification.png\n",
    "---\n",
    "width: 1\n",
    "height: 1\n",
    "---\n",
    "_National Inpatient Sample_. Virtually anyone can access this database with about 7 million records per year by have a simple or clearly stated hypothesis. We can work with them to develop an efficient script for the analysis. Or if they already have a script, we'd just add a few lines of code to extra `.csv` files needed for the backend of the app. This workflow has features that are open source, open science, open canvas, open collaboration, and very efficient. \n",
    "```"
   ]
  }
 ],
 "metadata": {
  "kernelspec": {
   "display_name": "myenv",
   "language": "python",
   "name": "python3"
  },
  "language_info": {
   "codemirror_mode": {
    "name": "ipython",
    "version": 3
   },
   "file_extension": ".py",
   "mimetype": "text/x-python",
   "name": "python",
   "nbconvert_exporter": "python",
   "pygments_lexer": "ipython3",
   "version": "3.12.4"
  },
  "widgets": {
   "application/vnd.jupyter.widget-state+json": {
    "state": {},
    "version_major": 2,
    "version_minor": 0
   }
  }
 },
 "nbformat": 4,
 "nbformat_minor": 4
}