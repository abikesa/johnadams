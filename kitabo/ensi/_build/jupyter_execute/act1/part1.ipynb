{
 "cells": [
  {
   "cell_type": "markdown",
   "metadata": {},
   "source": [
    "(voir)=\n",
    "# Information \n",
    "\n",
    "<iframe src=\"../pdfs/massie_jama_2024.pdf\" width=\"100%\" height=\"1000px\" style=\"borders:none\"></iframe>\n",
    "\n",
    "```{figure} https://abikesa.github.io/guesswho/_images/commodification.png\n",
    "---\n",
    "width: 1\n",
    "height: 1\n",
    "---\n",
    "_Static vs. Dynamic Presentation_. Authors typically have to commit to what data they will present to colleagues, reviewers, and the public. But clinicians and policy makers typically need to explore a combination of factors to make a personalized decision tailored to their situation. Our platform demonstrates this for the person who is considering donation, but it is applicable to any decision-making situation. We also critically consider the value of a control population for accurate and meaningful inferences {cite}`Massie2024`\n",
    "```\n"
   ]
  }
 ],
 "metadata": {
  "kernelspec": {
   "display_name": "myenv",
   "language": "python",
   "name": "python3"
  },
  "language_info": {
   "codemirror_mode": {
    "name": "ipython",
    "version": 3
   },
   "file_extension": ".py",
   "mimetype": "text/x-python",
   "name": "python",
   "nbconvert_exporter": "python",
   "pygments_lexer": "ipython3",
   "version": "3.12.4"
  },
  "widgets": {
   "application/vnd.jupyter.widget-state+json": {
    "state": {},
    "version_major": 2,
    "version_minor": 0
   }
  }
 },
 "nbformat": 4,
 "nbformat_minor": 4
}