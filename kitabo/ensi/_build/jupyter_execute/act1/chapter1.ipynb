{
 "cells": [
  {
   "cell_type": "markdown",
   "metadata": {},
   "source": [
    "(frontend)=\n",
    "# Frontend  \n",
    "\n",
    "A user-friendly platform that any patient, student, or colleague can intuitively use to understand the informed-consent process.\n",
    "\n",
    "It allows one to personalize risk estimates for a given scenario in a clinical or policy setting\n",
    "\n",
    "For the first time ever, it also visualizes the error margins of these risks, reflecting a limitation in the collective wisdom"
   ]
  }
 ],
 "metadata": {
  "kernelspec": {
   "display_name": "myenv",
   "language": "python",
   "name": "python3"
  },
  "language_info": {
   "codemirror_mode": {
    "name": "ipython",
    "version": 3
   },
   "file_extension": ".py",
   "mimetype": "text/x-python",
   "name": "python",
   "nbconvert_exporter": "python",
   "pygments_lexer": "ipython3",
   "version": "3.12.4"
  },
  "widgets": {
   "application/vnd.jupyter.widget-state+json": {
    "state": {},
    "version_major": 2,
    "version_minor": 0
   }
  }
 },
 "nbformat": 4,
 "nbformat_minor": 4
}